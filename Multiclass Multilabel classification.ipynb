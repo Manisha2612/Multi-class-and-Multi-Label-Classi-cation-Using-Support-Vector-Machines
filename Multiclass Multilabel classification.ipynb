{
 "cells": [
  {
   "cell_type": "code",
   "execution_count": 2,
   "metadata": {},
   "outputs": [],
   "source": [
    "from scipy.io import arff\n",
    "import pandas as pd\n",
    "import seaborn as sns\n",
    "import numpy as np\n",
    "import sklearn as sk\n",
    "import matplotlib.pyplot as plt\n",
    "from sklearn.neighbors import KNeighborsClassifier\n",
    "from sklearn.metrics import confusion_matrix\n",
    "from sklearn.metrics import precision_score\n",
    "from sklearn.metrics import accuracy_score\n",
    "from sklearn.metrics import classification_report\n",
    "import warnings\n",
    "from sklearn.model_selection import train_test_split\n",
    "warnings.filterwarnings('ignore')\n",
    "import math\n",
    "from sklearn.svm import SVC\n",
    "from sklearn.metrics import hamming_loss\n",
    "from sklearn.multiclass import OneVsRestClassifier\n",
    "from sklearn.model_selection import StratifiedShuffleSplit\n",
    "from sklearn.model_selection import GridSearchCV\n",
    "from itertools import product\n",
    "from sklearn.model_selection import cross_val_score\n",
    "from fastprogress.fastprogress import progress_bar\n",
    "from joblib import Parallel, delayed\n",
    "from multiprocessing import cpu_count\n",
    "from fastprogress.fastprogress import progress_bar\n",
    "from joblib import Parallel, delayed\n",
    "from multiprocessing import cpu_count\n",
    "from sklearn.svm import LinearSVC\n",
    "from tabulate import tabulate\n",
    "from imblearn.over_sampling import SMOTE\n",
    "from imblearn.over_sampling import SVMSMOTE\n"
   ]
  },
  {
   "cell_type": "code",
   "execution_count": 3,
   "metadata": {},
   "outputs": [],
   "source": [
    "df = pd.read_csv(\"Frogs_MFCCs.csv\")\n",
    "\n",
    "train, test = train_test_split(df, test_size=0.3)\n"
   ]
  },
  {
   "cell_type": "markdown",
   "metadata": {},
   "source": [
    "Research exact match and hamming score/ loss methods for evaluating multi-\n",
    "label classi\f",
    "cation and use them in evaluating the classi\f",
    "ers in this problem"
   ]
  },
  {
   "cell_type": "markdown",
   "metadata": {},
   "source": [
    "Train a SVM for each of the labels, using Gaussian kernels and one versus all\n",
    "classi\f",
    "ers. Determine the weight of the SVM penalty and the width of the\n",
    "Gaussian Kernel using 10 fold cross validation.1"
   ]
  },
  {
   "cell_type": "code",
   "execution_count": 33,
   "metadata": {},
   "outputs": [],
   "source": [
    "\n",
    "X_train = train.drop(columns=['Family','Genus','Species','RecordID'])\n",
    "normalized_x_train_df=(X_train-X_train.mean())/X_train.std()\n",
    "y_train=train[['Family','Genus','Species']]\n",
    "X_test = test.drop(columns=['Family','Genus','Species','RecordID'])\n",
    "normalized_x_test_df=(X_test-X_test.mean())/X_test.std()\n",
    "y_test=test[['Family','Genus','Species']]\n"
   ]
  },
  {
   "cell_type": "code",
   "execution_count": 34,
   "metadata": {},
   "outputs": [],
   "source": [
    "gamma_range=np.array([0.1,0.5,1,1.5,2,2.5, 10])\n",
    "c_range=np.array([0.1,1, 10, 100])"
   ]
  },
  {
   "cell_type": "code",
   "execution_count": 35,
   "metadata": {},
   "outputs": [
    {
     "name": "stdout",
     "output_type": "stream",
     "text": [
      "0.1 10.0 0.9898762188772128\n"
     ]
    }
   ],
   "source": [
    "svc = SVC(kernel='rbf')\n",
    "clf = GridSearchCV(estimator=svc, param_grid=dict(C=c_range,gamma=gamma_range), n_jobs=-1,cv=10)\n",
    "clf.fit(normalized_x_train_df, y_train['Family'])\n",
    "print(clf.best_estimator_.gamma ,clf.best_estimator_.C ,clf.best_score_)\n",
    "c_family=clf.best_estimator_.C \n",
    "g_family=clf.best_estimator_.gamma\n",
    "family_cv_score=clf.best_score_"
   ]
  },
  {
   "cell_type": "code",
   "execution_count": 37,
   "metadata": {},
   "outputs": [
    {
     "name": "stdout",
     "output_type": "stream",
     "text": [
      "0.1 10.0 0.988087348922339\n"
     ]
    }
   ],
   "source": [
    "svc = SVC(kernel='rbf')\n",
    "clf = GridSearchCV(estimator=svc, param_grid=dict(C=c_range,gamma=gamma_range), n_jobs=-1,cv=10)\n",
    "clf.fit(normalized_x_train_df, y_train['Genus'])\n",
    "print(clf.best_estimator_.gamma ,clf.best_estimator_.C ,clf.best_score_)\n",
    "c_genus=clf.best_estimator_.C \n",
    "g_genus=clf.best_estimator_.gamma\n",
    "genus_cv_score=clf.best_score_"
   ]
  },
  {
   "cell_type": "code",
   "execution_count": 38,
   "metadata": {},
   "outputs": [
    {
     "name": "stdout",
     "output_type": "stream",
     "text": [
      "0.1 10.0 0.9853060210167568\n"
     ]
    }
   ],
   "source": [
    "svc = SVC(kernel='rbf')\n",
    "clf = GridSearchCV(estimator=svc, param_grid=dict(C=c_range,gamma=gamma_range), n_jobs=-1,cv=10)\n",
    "clf.fit(normalized_x_train_df, y_train['Species'])\n",
    "print(clf.best_estimator_.gamma ,clf.best_estimator_.C ,clf.best_score_)\n",
    "c_species=clf.best_estimator_.C \n",
    "g_species=clf.best_estimator_.gamma\n",
    "species_cv_score=clf.best_score_"
   ]
  },
  {
   "cell_type": "code",
   "execution_count": 59,
   "metadata": {},
   "outputs": [],
   "source": [
    "svc = SVC(kernel='rbf',C=c_family,gamma=g_family)\n",
    "svc.fit(normalized_x_train_df, y_train['Family'])\n",
    "y_pred_family=svc.predict(normalized_x_test_df)\n",
    "family_accuracy_score=accuracy_score(y_test['Family'], y_pred_family)\n",
    "family_hamming_loss=hamming_loss(y_test['Family'], y_pred_family)\n",
    "\n",
    "svc = SVC(kernel='rbf',C=c_genus,gamma=g_genus)\n",
    "svc.fit(normalized_x_train_df, y_train['Genus'])\n",
    "y_pred_genus=svc.predict(normalized_x_test_df)\n",
    "genus_accuracy_score=accuracy_score(y_test['Genus'], y_pred_genus)\n",
    "genus_hamming_loss=hamming_loss(y_test['Genus'], y_pred_genus)\n",
    "\n",
    "svc = SVC(kernel='rbf',C=c_species,gamma=g_species)\n",
    "svc.fit(normalized_x_train_df, y_train['Species'])\n",
    "y_pred_species=svc.predict(normalized_x_test_df)\n",
    "species_accuracy_score=accuracy_score(y_test['Species'], y_pred_species)\n",
    "species_hamming_loss=hamming_loss(y_test['Species'], y_pred_species)"
   ]
  },
  {
   "cell_type": "code",
   "execution_count": 57,
   "metadata": {},
   "outputs": [
    {
     "name": "stdout",
     "output_type": "stream",
     "text": [
      "                     |     Family |      Genus |    Species\n",
      "---------------------+------------+------------+------------\n",
      " C Value             | 10         | 10         | 10\n",
      " Gamma               |  0.1       |  0.1       |  0.1\n",
      " CV Score            |  0.989876  |  0.988087  |  0.985306\n",
      " Hamming Loss        |  0.0847615 |  0.0921723 |  0.0477073\n",
      " Test Accuracy SCore |  0.915239  |  0.907828  |  0.952293\n",
      "avg accuracy score : 0.9251196541608769\n",
      "avg Hamming Loss : 0.07488034583912305\n"
     ]
    }
   ],
   "source": [
    "table = [[\"C Value\",c_family,c_genus,c_species],[\"Gamma\",g_family,g_genus,g_species],[\"CV Score\",family_cv_score,genus_cv_score,species_cv_score], [\"Hamming Loss\",family_hamming_loss,genus_hamming_loss,species_hamming_loss],[\"Test Accuracy SCore\",family_accuracy_score,genus_accuracy_score,species_accuracy_score]]\n",
    "print(tabulate(table,headers=[\"\",\"Family\", \"Genus\",\"Species\"],tablefmt=\"presto\"))\n",
    "\n",
    "print('avg accuracy score :',(family_accuracy_score+genus_accuracy_score+species_accuracy_score)/3)\n",
    "print('avg Hamming Loss :',(family_hamming_loss+genus_hamming_loss+species_hamming_loss)/3)"
   ]
  },
  {
   "cell_type": "markdown",
   "metadata": {},
   "source": [
    "clf.classes_"
   ]
  },
  {
   "cell_type": "markdown",
   "metadata": {},
   "source": [
    "Repeat 1(b)ii with L1-penalized SVMs.3 Remember to normalize the at-\n",
    "tributes.\n",
    "This time I am trying GridSearchCV"
   ]
  },
  {
   "cell_type": "code",
   "execution_count": 41,
   "metadata": {},
   "outputs": [
    {
     "name": "stdout",
     "output_type": "stream",
     "text": [
      "1 0.936459072208824\n"
     ]
    }
   ],
   "source": [
    "Cs =[1,5,10,100]\n",
    "svc = LinearSVC(penalty='l1', dual=False)\n",
    "clf = GridSearchCV(estimator=svc, param_grid=dict(C=Cs), n_jobs=-1)\n",
    "clf.fit(normalized_x_train_df, y_train['Family'])\n",
    "print(clf.best_estimator_.C ,clf.best_score_)\n",
    "c_l1_fam=clf.best_estimator_.C\n",
    "cv_l1_fam=clf.best_score_"
   ]
  },
  {
   "cell_type": "code",
   "execution_count": 42,
   "metadata": {},
   "outputs": [
    {
     "name": "stdout",
     "output_type": "stream",
     "text": [
      "5 0.9529403303857127\n"
     ]
    }
   ],
   "source": [
    "\n",
    "svc = LinearSVC(penalty='l1', dual=False)\n",
    "clf = GridSearchCV(estimator=svc, param_grid=dict(C=Cs), n_jobs=-1)\n",
    "clf.fit(normalized_x_train_df, y_train['Genus'])\n",
    "print(clf.best_estimator_.C ,clf.best_score_)\n",
    "c_l1_gen=clf.best_estimator_.C\n",
    "cv_l1_gen=clf.best_score_"
   ]
  },
  {
   "cell_type": "code",
   "execution_count": 43,
   "metadata": {},
   "outputs": [
    {
     "name": "stdout",
     "output_type": "stream",
     "text": [
      "100 0.9608823552592172\n"
     ]
    }
   ],
   "source": [
    "svc = LinearSVC(penalty='l1', dual=False)\n",
    "clf = GridSearchCV(estimator=svc, param_grid=dict(C=Cs), n_jobs=-1)\n",
    "clf.fit(normalized_x_train_df, y_train['Species'])\n",
    "print(clf.best_estimator_.C ,clf.best_score_)\n",
    "c_l1_spc=clf.best_estimator_.C\n",
    "cv_l1_spc=clf.best_score_"
   ]
  },
  {
   "cell_type": "code",
   "execution_count": 63,
   "metadata": {},
   "outputs": [],
   "source": [
    "svc = LinearSVC(penalty='l1', dual=False, C=c_l1_fam)\n",
    "svc.fit(normalized_x_train_df, y_train['Family'])\n",
    "y_pred_family=svc.predict(normalized_x_test_df)\n",
    "family_accuracy_score=accuracy_score(y_test['Family'], y_pred_family)\n",
    "family_hamming_loss=hamming_loss(y_test['Family'], y_pred_family)\n",
    "\n",
    "svc = LinearSVC(penalty='l1', dual=False,C=c_l1_gen)\n",
    "svc.fit(normalized_x_train_df, y_train['Genus'])\n",
    "y_pred_genus=svc.predict(normalized_x_test_df)\n",
    "genus_accuracy_score=accuracy_score(y_test['Genus'], y_pred_genus)\n",
    "genus_hamming_loss=hamming_loss(y_test['Genus'], y_pred_genus)\n",
    "\n",
    "svc = LinearSVC(penalty='l1', dual=False,C=c_l1_spc)\n",
    "svc.fit(normalized_x_train_df, y_train['Species'])\n",
    "y_pred_species=svc.predict(normalized_x_test_df)\n",
    "species_accuracy_score=accuracy_score(y_test['Species'], y_pred_species)\n",
    "species_hamming_loss=hamming_loss(y_test['Species'], y_pred_species)"
   ]
  },
  {
   "cell_type": "code",
   "execution_count": 64,
   "metadata": {},
   "outputs": [
    {
     "name": "stdout",
     "output_type": "stream",
     "text": [
      "                     |    Family |    Genus |     Species\n",
      "---------------------+-----------+----------+-------------\n",
      " C Value             | 1         | 5        | 100\n",
      " CV Score            | 0.936459  | 0.95294  |   0.960882\n",
      " Hamming Loss        | 0.0643817 | 0.052339 |   0.0453914\n",
      " Test Accuracy SCore | 0.935618  | 0.947661 |   0.954609\n",
      "avg accuracy score : 0.9459626370233133\n",
      "avg Hamming Loss : 0.05403736297668674\n"
     ]
    }
   ],
   "source": [
    "table = [[\"C Value\",c_l1_fam,c_l1_gen,c_l1_spc],[\"CV Score\",cv_l1_fam,cv_l1_gen,cv_l1_spc], [\"Hamming Loss\",family_hamming_loss,genus_hamming_loss,species_hamming_loss],[\"Test Accuracy SCore\",family_accuracy_score,genus_accuracy_score,species_accuracy_score]]\n",
    "print(tabulate(table,headers=[\"\",\"Family\", \"Genus\",\"Species\"],tablefmt=\"presto\"))\n",
    "print('avg accuracy score :',(family_accuracy_score+genus_accuracy_score+species_accuracy_score)/3)\n",
    "print('avg Hamming Loss :',(family_hamming_loss+genus_hamming_loss+species_hamming_loss)/3)"
   ]
  },
  {
   "cell_type": "markdown",
   "metadata": {},
   "source": [
    "Repeat 1(b)ii with L1-penalized SVMs.3 Remember to normalize the at-\n",
    "tributes."
   ]
  },
  {
   "cell_type": "code",
   "execution_count": 47,
   "metadata": {},
   "outputs": [
    {
     "name": "stdout",
     "output_type": "stream",
     "text": [
      "10 0.9488224677525567\n"
     ]
    }
   ],
   "source": [
    "svc = LinearSVC(penalty='l1', dual=False)\n",
    "sm = SMOTE(random_state=2)\n",
    "X, y = sm.fit_sample(normalized_x_train_df, y_train['Family'])\n",
    "clf = GridSearchCV(estimator=svc, param_grid=dict(C=Cs), n_jobs=-1)\n",
    "clf.fit(X, y)\n",
    "print(clf.best_estimator_.C ,clf.best_score_)\n",
    "c_smote_fam=clf.best_estimator_.C\n",
    "cv_smote_fam=clf.best_score_"
   ]
  },
  {
   "cell_type": "code",
   "execution_count": 54,
   "metadata": {},
   "outputs": [
    {
     "name": "stdout",
     "output_type": "stream",
     "text": [
      "100 0.9597051760724661\n"
     ]
    }
   ],
   "source": [
    "svc = LinearSVC(penalty='l1', dual=False)\n",
    "sm = SMOTE(random_state=2)\n",
    "X, y = sm.fit_sample(normalized_x_train_df, y_train['Genus'])\n",
    "clf = GridSearchCV(estimator=svc, param_grid=dict(C=Cs), n_jobs=-1)\n",
    "clf.fit(X, y)\n",
    "print(clf.best_estimator_.C ,clf.best_score_)\n",
    "c_smote_gen=clf.best_estimator_.C\n",
    "cv_smote_gen=clf.best_score_"
   ]
  },
  {
   "cell_type": "code",
   "execution_count": 49,
   "metadata": {},
   "outputs": [
    {
     "name": "stdout",
     "output_type": "stream",
     "text": [
      "5 0.9665444172779136\n"
     ]
    }
   ],
   "source": [
    "svc = LinearSVC(penalty='l1', dual=False)\n",
    "sm = SMOTE(random_state=2)\n",
    "X, y = sm.fit_sample(normalized_x_train_df, y_train['Species'])\n",
    "clf = GridSearchCV(estimator=svc, param_grid=dict(C=Cs), n_jobs=-1)\n",
    "clf.fit(X, y)\n",
    "print(clf.best_estimator_.C ,clf.best_score_)\n",
    "c_smote_spc=clf.best_estimator_.C\n",
    "cv_smote_spc=clf.best_score_"
   ]
  },
  {
   "cell_type": "code",
   "execution_count": 65,
   "metadata": {},
   "outputs": [],
   "source": [
    "svc = LinearSVC(penalty='l1', dual=False, C=c_smote_fam)\n",
    "sm = SMOTE(random_state=2)\n",
    "X, y = sm.fit_sample(normalized_x_train_df, y_train['Family'])\n",
    "svc.fit(X,y)\n",
    "y_pred_family=svc.predict(normalized_x_test_df)\n",
    "family_accuracy_score=accuracy_score(y_test['Family'], y_pred_family)\n",
    "family_hamming_loss=hamming_loss(y_test['Family'], y_pred_family)\n",
    "\n",
    "svc = LinearSVC(penalty='l1', dual=False,C=c_smote_gen)\n",
    "sm = SMOTE(random_state=2)\n",
    "X, y = sm.fit_sample(normalized_x_train_df, y_train['Genus'])\n",
    "svc.fit(X,y)\n",
    "y_pred_genus=svc.predict(normalized_x_test_df)\n",
    "genus_accuracy_score=accuracy_score(y_test['Genus'], y_pred_genus)\n",
    "genus_hamming_loss=hamming_loss(y_test['Genus'], y_pred_genus)\n",
    "\n",
    "svc = LinearSVC(penalty='l1', dual=False,C=c_smote_spc)\n",
    "sm = SMOTE(random_state=2)\n",
    "X, y = sm.fit_sample(normalized_x_train_df, y_train['Species'])\n",
    "svc.fit(X,y)\n",
    "y_pred_species=svc.predict(normalized_x_test_df)\n",
    "species_accuracy_score=accuracy_score(y_test['Species'], y_pred_species)\n",
    "species_hamming_loss=hamming_loss(y_test['Species'], y_pred_species)\n"
   ]
  },
  {
   "cell_type": "code",
   "execution_count": 66,
   "metadata": {},
   "outputs": [
    {
     "name": "stdout",
     "output_type": "stream",
     "text": [
      "                     |     Family |       Genus |   Species\n",
      "---------------------+------------+-------------+-----------\n",
      " C Value             | 10         | 100         | 5\n",
      " CV Score            |  0.959705  |   0.959705  | 0.966544\n",
      " Hamming Loss        |  0.0847615 |   0.0921723 | 0.0477073\n",
      " Test Accuracy SCore |  0.915239  |   0.907828  | 0.952293\n",
      "avg accuracy score : 0.9251196541608769\n",
      "avg Hamming Loss : 0.07488034583912305\n"
     ]
    }
   ],
   "source": [
    "table = [[\"C Value\",c_smote_fam,c_smote_gen,c_smote_spc],[\"CV Score\",cv_smote_fam,cv_smote_gen,cv_smote_spc], [\"Hamming Loss\",family_hamming_loss,genus_hamming_loss,species_hamming_loss],[\"Test Accuracy SCore\",family_accuracy_score,genus_accuracy_score,species_accuracy_score]]\n",
    "print(tabulate(table,headers=[\"\",\"Family\", \"Genus\",\"Species\"],tablefmt=\"presto\"))\n",
    "print('avg accuracy score :',(family_accuracy_score+genus_accuracy_score+species_accuracy_score)/3)\n",
    "print('avg Hamming Loss :',(family_hamming_loss+genus_hamming_loss+species_hamming_loss)/3)"
   ]
  },
  {
   "cell_type": "code",
   "execution_count": null,
   "metadata": {},
   "outputs": [],
   "source": []
  }
 ],
 "metadata": {
  "kernelspec": {
   "display_name": "Python 3",
   "language": "python",
   "name": "python3"
  },
  "language_info": {
   "codemirror_mode": {
    "name": "ipython",
    "version": 3
   },
   "file_extension": ".py",
   "mimetype": "text/x-python",
   "name": "python",
   "nbconvert_exporter": "python",
   "pygments_lexer": "ipython3",
   "version": "3.6.10"
  }
 },
 "nbformat": 4,
 "nbformat_minor": 4
}
